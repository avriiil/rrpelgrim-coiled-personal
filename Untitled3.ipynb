{
 "cells": [
  {
   "cell_type": "code",
   "execution_count": 17,
   "id": "ea722c31-20ce-4a05-ab49-565c69b91812",
   "metadata": {},
   "outputs": [],
   "source": [
    "import coiled"
   ]
  },
  {
   "cell_type": "code",
   "execution_count": 18,
   "id": "96123239-a608-4102-882d-9d533ae67116",
   "metadata": {},
   "outputs": [
    {
     "data": {
      "application/vnd.jupyter.widget-view+json": {
       "model_id": "",
       "version_major": 2,
       "version_minor": 0
      },
      "text/plain": [
       "Output()"
      ]
     },
     "metadata": {},
     "output_type": "display_data"
    },
    {
     "data": {
      "text/html": [
       "<pre style=\"white-space:pre;overflow-x:auto;line-height:normal;font-family:Menlo,'DejaVu Sans Mono',consolas,'Courier New',monospace\">Using existing cluster: <span style=\"color: #008000; text-decoration-color: #008000\">'live-demo'</span>\n",
       "</pre>\n"
      ],
      "text/plain": [
       "Using existing cluster: \u001b[32m'live-demo'\u001b[0m\n"
      ]
     },
     "metadata": {},
     "output_type": "display_data"
    },
    {
     "data": {
      "text/html": [
       "<pre style=\"white-space:pre;overflow-x:auto;line-height:normal;font-family:Menlo,'DejaVu Sans Mono',consolas,'Courier New',monospace\"></pre>\n"
      ],
      "text/plain": []
     },
     "metadata": {},
     "output_type": "display_data"
    }
   ],
   "source": [
    "cluster = coiled.Cluster(\n",
    "    name=\"live-demo\",\n",
    "    n_workers=20,\n",
    "    shutdown_on_close=False,\n",
    "    scheduler_options={'idle_timeout':'3 hours'}\n",
    ")"
   ]
  },
  {
   "cell_type": "code",
   "execution_count": 3,
   "id": "d2f9f064-eaa7-4bc5-ab38-2340c8707587",
   "metadata": {},
   "outputs": [],
   "source": [
    "from distributed import Client"
   ]
  },
  {
   "cell_type": "code",
   "execution_count": 4,
   "id": "9a1cb47d-49d6-4c89-ae3b-88e889d6203f",
   "metadata": {},
   "outputs": [],
   "source": [
    "%%capture\n",
    "client = Client(cluster)\n",
    "client"
   ]
  },
  {
   "cell_type": "code",
   "execution_count": 5,
   "id": "460d7bd2-7a83-45e1-910f-c7e104baecec",
   "metadata": {},
   "outputs": [
    {
     "data": {
      "text/plain": [
       "'http://54.236.42.79:8787'"
      ]
     },
     "execution_count": 5,
     "metadata": {},
     "output_type": "execute_result"
    }
   ],
   "source": [
    "client.dashboard_link"
   ]
  },
  {
   "cell_type": "code",
   "execution_count": 19,
   "id": "f1f1f046-c430-406d-a3a8-428a7610432d",
   "metadata": {},
   "outputs": [],
   "source": [
    "import dask"
   ]
  },
  {
   "cell_type": "code",
   "execution_count": 20,
   "id": "a232be50-3854-487a-a4f0-b74afd2bde70",
   "metadata": {},
   "outputs": [],
   "source": [
    "ddf = dask.datasets.timeseries(\"1950\", \"1980\")"
   ]
  },
  {
   "cell_type": "code",
   "execution_count": 21,
   "id": "3af27ee8-7fc0-473e-9498-ee18c76dccb1",
   "metadata": {},
   "outputs": [
    {
     "data": {
      "text/html": [
       "<div>\n",
       "<style scoped>\n",
       "    .dataframe tbody tr th:only-of-type {\n",
       "        vertical-align: middle;\n",
       "    }\n",
       "\n",
       "    .dataframe tbody tr th {\n",
       "        vertical-align: top;\n",
       "    }\n",
       "\n",
       "    .dataframe thead th {\n",
       "        text-align: right;\n",
       "    }\n",
       "</style>\n",
       "<table border=\"1\" class=\"dataframe\">\n",
       "  <thead>\n",
       "    <tr style=\"text-align: right;\">\n",
       "      <th></th>\n",
       "      <th>id</th>\n",
       "      <th>name</th>\n",
       "      <th>x</th>\n",
       "      <th>y</th>\n",
       "    </tr>\n",
       "    <tr>\n",
       "      <th>timestamp</th>\n",
       "      <th></th>\n",
       "      <th></th>\n",
       "      <th></th>\n",
       "      <th></th>\n",
       "    </tr>\n",
       "  </thead>\n",
       "  <tbody>\n",
       "    <tr>\n",
       "      <th>1950-01-01 00:00:00</th>\n",
       "      <td>1049</td>\n",
       "      <td>Hannah</td>\n",
       "      <td>-0.332641</td>\n",
       "      <td>0.903508</td>\n",
       "    </tr>\n",
       "    <tr>\n",
       "      <th>1950-01-01 00:00:01</th>\n",
       "      <td>990</td>\n",
       "      <td>Ray</td>\n",
       "      <td>-0.492779</td>\n",
       "      <td>-0.899365</td>\n",
       "    </tr>\n",
       "    <tr>\n",
       "      <th>1950-01-01 00:00:02</th>\n",
       "      <td>1016</td>\n",
       "      <td>Norbert</td>\n",
       "      <td>0.658583</td>\n",
       "      <td>-0.670126</td>\n",
       "    </tr>\n",
       "    <tr>\n",
       "      <th>1950-01-01 00:00:03</th>\n",
       "      <td>991</td>\n",
       "      <td>George</td>\n",
       "      <td>0.193099</td>\n",
       "      <td>0.226860</td>\n",
       "    </tr>\n",
       "    <tr>\n",
       "      <th>1950-01-01 00:00:04</th>\n",
       "      <td>968</td>\n",
       "      <td>Edith</td>\n",
       "      <td>0.132976</td>\n",
       "      <td>0.358896</td>\n",
       "    </tr>\n",
       "  </tbody>\n",
       "</table>\n",
       "</div>"
      ],
      "text/plain": [
       "                       id     name         x         y\n",
       "timestamp                                             \n",
       "1950-01-01 00:00:00  1049   Hannah -0.332641  0.903508\n",
       "1950-01-01 00:00:01   990      Ray -0.492779 -0.899365\n",
       "1950-01-01 00:00:02  1016  Norbert  0.658583 -0.670126\n",
       "1950-01-01 00:00:03   991   George  0.193099  0.226860\n",
       "1950-01-01 00:00:04   968    Edith  0.132976  0.358896"
      ]
     },
     "execution_count": 21,
     "metadata": {},
     "output_type": "execute_result"
    }
   ],
   "source": [
    "ddf.head()"
   ]
  },
  {
   "cell_type": "code",
   "execution_count": 22,
   "id": "5f12a2c9-199c-40a0-89ce-65c2a45fba00",
   "metadata": {},
   "outputs": [
    {
     "data": {
      "text/html": [
       "<div><strong>Dask DataFrame Structure:</strong></div>\n",
       "<div>\n",
       "<style scoped>\n",
       "    .dataframe tbody tr th:only-of-type {\n",
       "        vertical-align: middle;\n",
       "    }\n",
       "\n",
       "    .dataframe tbody tr th {\n",
       "        vertical-align: top;\n",
       "    }\n",
       "\n",
       "    .dataframe thead th {\n",
       "        text-align: right;\n",
       "    }\n",
       "</style>\n",
       "<table border=\"1\" class=\"dataframe\">\n",
       "  <thead>\n",
       "    <tr style=\"text-align: right;\">\n",
       "      <th></th>\n",
       "      <th>id</th>\n",
       "      <th>name</th>\n",
       "      <th>x</th>\n",
       "      <th>y</th>\n",
       "    </tr>\n",
       "    <tr>\n",
       "      <th>npartitions=10957</th>\n",
       "      <th></th>\n",
       "      <th></th>\n",
       "      <th></th>\n",
       "      <th></th>\n",
       "    </tr>\n",
       "  </thead>\n",
       "  <tbody>\n",
       "    <tr>\n",
       "      <th>1950-01-01</th>\n",
       "      <td>int64</td>\n",
       "      <td>object</td>\n",
       "      <td>float64</td>\n",
       "      <td>float64</td>\n",
       "    </tr>\n",
       "    <tr>\n",
       "      <th>1950-01-02</th>\n",
       "      <td>...</td>\n",
       "      <td>...</td>\n",
       "      <td>...</td>\n",
       "      <td>...</td>\n",
       "    </tr>\n",
       "    <tr>\n",
       "      <th>...</th>\n",
       "      <td>...</td>\n",
       "      <td>...</td>\n",
       "      <td>...</td>\n",
       "      <td>...</td>\n",
       "    </tr>\n",
       "    <tr>\n",
       "      <th>1979-12-31</th>\n",
       "      <td>...</td>\n",
       "      <td>...</td>\n",
       "      <td>...</td>\n",
       "      <td>...</td>\n",
       "    </tr>\n",
       "    <tr>\n",
       "      <th>1980-01-01</th>\n",
       "      <td>...</td>\n",
       "      <td>...</td>\n",
       "      <td>...</td>\n",
       "      <td>...</td>\n",
       "    </tr>\n",
       "  </tbody>\n",
       "</table>\n",
       "</div>\n",
       "<div>Dask Name: make-timeseries, 10957 tasks</div>"
      ],
      "text/plain": [
       "Dask DataFrame Structure:\n",
       "                      id    name        x        y\n",
       "npartitions=10957                                 \n",
       "1950-01-01         int64  object  float64  float64\n",
       "1950-01-02           ...     ...      ...      ...\n",
       "...                  ...     ...      ...      ...\n",
       "1979-12-31           ...     ...      ...      ...\n",
       "1980-01-01           ...     ...      ...      ...\n",
       "Dask Name: make-timeseries, 10957 tasks"
      ]
     },
     "execution_count": 22,
     "metadata": {},
     "output_type": "execute_result"
    }
   ],
   "source": [
    "ddf"
   ]
  },
  {
   "cell_type": "code",
   "execution_count": 23,
   "id": "bafa947b-dbb3-44ee-be9e-ce5eafe0d0be",
   "metadata": {},
   "outputs": [
    {
     "name": "stdout",
     "output_type": "stream",
     "text": [
      "CPU times: user 527 ms, sys: 30.4 ms, total: 558 ms\n",
      "Wall time: 9.07 s\n"
     ]
    },
    {
     "data": {
      "text/plain": [
       "Sarah       3325798\n",
       "Tim         3325461\n",
       "Charlie     3325137\n",
       "Wendy       3325116\n",
       "Edith       3325055\n",
       "Hannah      3324971\n",
       "Ursula      3324643\n",
       "Xavier      3324635\n",
       "Quinn       3324498\n",
       "Zelda       3324383\n",
       "Dan         3324381\n",
       "Oliver      3323595\n",
       "Patricia    3323475\n",
       "George      3322851\n",
       "Bob         3322442\n",
       "Ray         3322442\n",
       "Ingrid      3322184\n",
       "Frank       3321958\n",
       "Laura       3321893\n",
       "Michael     3321842\n",
       "Alice       3321381\n",
       "Norbert     3321041\n",
       "Victor      3320662\n",
       "Kevin       3320266\n",
       "Yvonne      3320034\n",
       "Jerry       3319856\n",
       "Name: name, dtype: int64"
      ]
     },
     "execution_count": 23,
     "metadata": {},
     "output_type": "execute_result"
    }
   ],
   "source": [
    "%%time\n",
    "ddf.partitions[:1000].name.value_counts().compute()"
   ]
  },
  {
   "cell_type": "code",
   "execution_count": 25,
   "id": "ba451d6c-588d-42a1-8ae3-b1e5992b676b",
   "metadata": {},
   "outputs": [
    {
     "name": "stdout",
     "output_type": "stream",
     "text": [
      "CPU times: user 1.86 s, sys: 121 ms, total: 1.98 s\n",
      "Wall time: 1min 21s\n"
     ]
    },
    {
     "data": {
      "text/plain": [
       "name\n",
       "Alice       4.950090e-05\n",
       "Bob        -1.156581e-04\n",
       "Charlie    -9.511657e-05\n",
       "Dan        -1.539447e-04\n",
       "Edith      -9.347797e-05\n",
       "Frank       2.100849e-05\n",
       "George      4.672503e-06\n",
       "Hannah     -1.256811e-04\n",
       "Ingrid      1.178277e-04\n",
       "Jerry       5.971931e-05\n",
       "Kevin      -6.452128e-05\n",
       "Laura      -7.671426e-05\n",
       "Michael    -5.812482e-05\n",
       "Norbert    -7.251067e-05\n",
       "Oliver      3.829664e-05\n",
       "Patricia    1.359029e-05\n",
       "Quinn      -3.814000e-05\n",
       "Ray         8.623924e-06\n",
       "Sarah       2.783988e-05\n",
       "Tim         3.581389e-05\n",
       "Ursula     -5.488483e-05\n",
       "Victor      1.975881e-04\n",
       "Wendy       1.703791e-04\n",
       "Xavier      5.318175e-07\n",
       "Yvonne     -1.625869e-04\n",
       "Zelda       9.380760e-05\n",
       "Name: x, dtype: float64"
      ]
     },
     "execution_count": 25,
     "metadata": {},
     "output_type": "execute_result"
    }
   ],
   "source": [
    "%%time\n",
    "ddf.groupby('name').x.mean().compute()"
   ]
  },
  {
   "cell_type": "code",
   "execution_count": null,
   "id": "48a31be2-f23b-46f3-9069-1c5a2357ab13",
   "metadata": {},
   "outputs": [],
   "source": []
  }
 ],
 "metadata": {
  "kernelspec": {
   "display_name": "coiled-base",
   "language": "python",
   "name": "coiled-base"
  },
  "language_info": {
   "codemirror_mode": {
    "name": "ipython",
    "version": 3
   },
   "file_extension": ".py",
   "mimetype": "text/x-python",
   "name": "python",
   "nbconvert_exporter": "python",
   "pygments_lexer": "ipython3",
   "version": "3.9.7"
  }
 },
 "nbformat": 4,
 "nbformat_minor": 5
}
