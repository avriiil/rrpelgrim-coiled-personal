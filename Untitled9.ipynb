{
 "cells": [
  {
   "cell_type": "code",
   "execution_count": 1,
   "id": "b2d7cf45",
   "metadata": {},
   "outputs": [],
   "source": [
    "import coiled"
   ]
  },
  {
   "cell_type": "code",
   "execution_count": 4,
   "id": "e80c216e",
   "metadata": {},
   "outputs": [
    {
     "name": "stdout",
     "output_type": "stream",
     "text": [
      "\u001b[32mAuthentication successful\u001b[0m\r\n",
      "Credentials have been saved at \u001b[34m/Users/rpelgrim/.config/dask/\u001b[0m\u001b[34mcoiled.yaml\u001b[0m\r\n"
     ]
    }
   ],
   "source": [
    "! coiled login --token a7d77ccab51b4d3f9366c471907b46e2-6dd6fe0653bdf4218b502360e2cceaaf951d755c"
   ]
  },
  {
   "cell_type": "code",
   "execution_count": 2,
   "id": "9009abcc",
   "metadata": {},
   "outputs": [
    {
     "data": {
      "application/vnd.jupyter.widget-view+json": {
       "model_id": "",
       "version_major": 2,
       "version_minor": 0
      },
      "text/plain": [
       "Output()"
      ]
     },
     "metadata": {},
     "output_type": "display_data"
    },
    {
     "name": "stdout",
     "output_type": "stream",
     "text": [
      "Found software environment build\n",
      "Created fw rule: inbound [8786-8787] [0.0.0.0/0] []\n",
      "Created FW rules: coiled-dask-rrpelgr71-112316-firewall\n",
      "Created fw rule: cluster [0-65535] [None] [coiled-dask-rrpelgr71-112316-firewall -> coiled-dask-rrpelgr71-112316-firewall]\n",
      "Created FW rules: coiled-dask-rrpelgr71-112316-cluster-firewall\n",
      "Created fw rule: cluster [0-65535] [None] [coiled-dask-rrpelgr71-112316-cluster-firewall -> coiled-dask-rrpelgr71-112316-cluster-firewall]\n",
      "Created scheduler VM: coiled-dask-rrpelgr71-112316-scheduler (type: t3.medium, ip: ['44.195.87.51'])\n"
     ]
    },
    {
     "data": {
      "text/html": [
       "<pre style=\"white-space:pre;overflow-x:auto;line-height:normal;font-family:Menlo,'DejaVu Sans Mono',consolas,'Courier New',monospace\"></pre>\n"
      ],
      "text/plain": []
     },
     "metadata": {},
     "output_type": "display_data"
    }
   ],
   "source": [
    "cluster = coiled.Cluster(n_workers=10)"
   ]
  },
  {
   "cell_type": "code",
   "execution_count": null,
   "id": "b4b79307",
   "metadata": {},
   "outputs": [],
   "source": []
  }
 ],
 "metadata": {
  "kernelspec": {
   "display_name": "dask-nlp",
   "language": "python",
   "name": "dask-nlp"
  },
  "language_info": {
   "codemirror_mode": {
    "name": "ipython",
    "version": 3
   },
   "file_extension": ".py",
   "mimetype": "text/x-python",
   "name": "python",
   "nbconvert_exporter": "python",
   "pygments_lexer": "ipython3",
   "version": "3.9.10"
  }
 },
 "nbformat": 4,
 "nbformat_minor": 5
}
