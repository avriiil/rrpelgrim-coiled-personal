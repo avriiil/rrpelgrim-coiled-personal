{
 "cells": [
  {
   "cell_type": "code",
   "execution_count": 2,
   "id": "cf04fa34-857e-469b-8d03-92fbf6875c7f",
   "metadata": {},
   "outputs": [],
   "source": [
    "import dask.dataframe as dd\n",
    "import pandas as pd"
   ]
  },
  {
   "cell_type": "code",
   "execution_count": 3,
   "id": "99927ad4-2a24-4246-9113-77652ef45bda",
   "metadata": {},
   "outputs": [],
   "source": [
    "pdf = pd.DataFrame(\n",
    "    {\"num1\": [1, 2, 3, 4], \"num2\": [7, 8, 9, 10]},\n",
    ")\n",
    "df = dd.from_pandas(pdf, npartitions=2)"
   ]
  },
  {
   "cell_type": "code",
   "execution_count": 6,
   "id": "745af371",
   "metadata": {},
   "outputs": [
    {
     "data": {
      "text/plain": [
       "['/Users/rpelgrim/Documents/git/rrpelgrim-coiled-personal/./tmp/csv_simple_2.csv/0.part',\n",
       " '/Users/rpelgrim/Documents/git/rrpelgrim-coiled-personal/./tmp/csv_simple_2.csv/1.part']"
      ]
     },
     "execution_count": 6,
     "metadata": {},
     "output_type": "execute_result"
    }
   ],
   "source": [
    "df.to_csv(\"./tmp/csv_simple_2.csv\")"
   ]
  },
  {
   "cell_type": "code",
   "execution_count": 7,
   "id": "9fc57135",
   "metadata": {},
   "outputs": [
    {
     "data": {
      "text/html": [
       "<div><strong>Dask DataFrame Structure:</strong></div>\n",
       "<div>\n",
       "<style scoped>\n",
       "    .dataframe tbody tr th:only-of-type {\n",
       "        vertical-align: middle;\n",
       "    }\n",
       "\n",
       "    .dataframe tbody tr th {\n",
       "        vertical-align: top;\n",
       "    }\n",
       "\n",
       "    .dataframe thead th {\n",
       "        text-align: right;\n",
       "    }\n",
       "</style>\n",
       "<table border=\"1\" class=\"dataframe\">\n",
       "  <thead>\n",
       "    <tr style=\"text-align: right;\">\n",
       "      <th></th>\n",
       "      <th>num1</th>\n",
       "      <th>num2</th>\n",
       "    </tr>\n",
       "    <tr>\n",
       "      <th>npartitions=2</th>\n",
       "      <th></th>\n",
       "      <th></th>\n",
       "    </tr>\n",
       "  </thead>\n",
       "  <tbody>\n",
       "    <tr>\n",
       "      <th>0</th>\n",
       "      <td>int64</td>\n",
       "      <td>int64</td>\n",
       "    </tr>\n",
       "    <tr>\n",
       "      <th>2</th>\n",
       "      <td>...</td>\n",
       "      <td>...</td>\n",
       "    </tr>\n",
       "    <tr>\n",
       "      <th>3</th>\n",
       "      <td>...</td>\n",
       "      <td>...</td>\n",
       "    </tr>\n",
       "  </tbody>\n",
       "</table>\n",
       "</div>\n",
       "<div>Dask Name: from_pandas, 2 tasks</div>"
      ],
      "text/plain": [
       "Dask DataFrame Structure:\n",
       "                num1   num2\n",
       "npartitions=2              \n",
       "0              int64  int64\n",
       "2                ...    ...\n",
       "3                ...    ...\n",
       "Dask Name: from_pandas, 2 tasks"
      ]
     },
     "execution_count": 7,
     "metadata": {},
     "output_type": "execute_result"
    }
   ],
   "source": [
    "df"
   ]
  },
  {
   "cell_type": "code",
   "execution_count": 8,
   "id": "7e8bc7c6",
   "metadata": {},
   "outputs": [],
   "source": [
    "ddf = df"
   ]
  },
  {
   "cell_type": "code",
   "execution_count": 9,
   "id": "44d4af62",
   "metadata": {},
   "outputs": [
    {
     "name": "stderr",
     "output_type": "stream",
     "text": [
      "/Users/rpelgrim/mambaforge/envs/coiled-base/lib/python3.9/site-packages/dask/dataframe/core.py:6955: UserWarning: Insufficient elements for `head`. 10 elements requested, only 2 elements available. Try passing larger `npartitions` to `head`.\n",
      "  warnings.warn(\n"
     ]
    },
    {
     "data": {
      "text/html": [
       "<div>\n",
       "<style scoped>\n",
       "    .dataframe tbody tr th:only-of-type {\n",
       "        vertical-align: middle;\n",
       "    }\n",
       "\n",
       "    .dataframe tbody tr th {\n",
       "        vertical-align: top;\n",
       "    }\n",
       "\n",
       "    .dataframe thead th {\n",
       "        text-align: right;\n",
       "    }\n",
       "</style>\n",
       "<table border=\"1\" class=\"dataframe\">\n",
       "  <thead>\n",
       "    <tr style=\"text-align: right;\">\n",
       "      <th></th>\n",
       "      <th>num1</th>\n",
       "      <th>num2</th>\n",
       "    </tr>\n",
       "  </thead>\n",
       "  <tbody>\n",
       "    <tr>\n",
       "      <th>0</th>\n",
       "      <td>1</td>\n",
       "      <td>7</td>\n",
       "    </tr>\n",
       "    <tr>\n",
       "      <th>1</th>\n",
       "      <td>2</td>\n",
       "      <td>8</td>\n",
       "    </tr>\n",
       "  </tbody>\n",
       "</table>\n",
       "</div>"
      ],
      "text/plain": [
       "   num1  num2\n",
       "0     1     7\n",
       "1     2     8"
      ]
     },
     "execution_count": 9,
     "metadata": {},
     "output_type": "execute_result"
    }
   ],
   "source": [
    "ddf.head(10)"
   ]
  },
  {
   "cell_type": "code",
   "execution_count": 10,
   "id": "67d9e75c",
   "metadata": {},
   "outputs": [],
   "source": [
    "import dask"
   ]
  },
  {
   "cell_type": "code",
   "execution_count": 11,
   "id": "84714f5b",
   "metadata": {},
   "outputs": [],
   "source": [
    "ddf = dask.datasets.timeseries(\"1990\")"
   ]
  },
  {
   "cell_type": "code",
   "execution_count": 13,
   "id": "478c4a68",
   "metadata": {},
   "outputs": [
    {
     "data": {
      "text/html": [
       "<div>\n",
       "<style scoped>\n",
       "    .dataframe tbody tr th:only-of-type {\n",
       "        vertical-align: middle;\n",
       "    }\n",
       "\n",
       "    .dataframe tbody tr th {\n",
       "        vertical-align: top;\n",
       "    }\n",
       "\n",
       "    .dataframe thead th {\n",
       "        text-align: right;\n",
       "    }\n",
       "</style>\n",
       "<table border=\"1\" class=\"dataframe\">\n",
       "  <thead>\n",
       "    <tr style=\"text-align: right;\">\n",
       "      <th></th>\n",
       "      <th>id</th>\n",
       "      <th>name</th>\n",
       "      <th>x</th>\n",
       "      <th>y</th>\n",
       "    </tr>\n",
       "    <tr>\n",
       "      <th>timestamp</th>\n",
       "      <th></th>\n",
       "      <th></th>\n",
       "      <th></th>\n",
       "      <th></th>\n",
       "    </tr>\n",
       "  </thead>\n",
       "  <tbody>\n",
       "    <tr>\n",
       "      <th>1990-01-01 00:00:00</th>\n",
       "      <td>1058</td>\n",
       "      <td>Jerry</td>\n",
       "      <td>-0.872128</td>\n",
       "      <td>0.337763</td>\n",
       "    </tr>\n",
       "    <tr>\n",
       "      <th>1990-01-01 00:00:01</th>\n",
       "      <td>1009</td>\n",
       "      <td>Edith</td>\n",
       "      <td>-0.793868</td>\n",
       "      <td>0.298295</td>\n",
       "    </tr>\n",
       "    <tr>\n",
       "      <th>1990-01-01 00:00:02</th>\n",
       "      <td>986</td>\n",
       "      <td>Zelda</td>\n",
       "      <td>-0.597289</td>\n",
       "      <td>-0.665640</td>\n",
       "    </tr>\n",
       "  </tbody>\n",
       "</table>\n",
       "</div>"
      ],
      "text/plain": [
       "                       id   name         x         y\n",
       "timestamp                                           \n",
       "1990-01-01 00:00:00  1058  Jerry -0.872128  0.337763\n",
       "1990-01-01 00:00:01  1009  Edith -0.793868  0.298295\n",
       "1990-01-01 00:00:02   986  Zelda -0.597289 -0.665640"
      ]
     },
     "execution_count": 13,
     "metadata": {},
     "output_type": "execute_result"
    }
   ],
   "source": [
    "ddf.head(3)"
   ]
  },
  {
   "cell_type": "code",
   "execution_count": 14,
   "id": "cd43fde9",
   "metadata": {},
   "outputs": [
    {
     "data": {
      "text/html": [
       "<div>\n",
       "<style scoped>\n",
       "    .dataframe tbody tr th:only-of-type {\n",
       "        vertical-align: middle;\n",
       "    }\n",
       "\n",
       "    .dataframe tbody tr th {\n",
       "        vertical-align: top;\n",
       "    }\n",
       "\n",
       "    .dataframe thead th {\n",
       "        text-align: right;\n",
       "    }\n",
       "</style>\n",
       "<table border=\"1\" class=\"dataframe\">\n",
       "  <thead>\n",
       "    <tr style=\"text-align: right;\">\n",
       "      <th></th>\n",
       "      <th>num1</th>\n",
       "      <th>num2</th>\n",
       "    </tr>\n",
       "  </thead>\n",
       "  <tbody>\n",
       "    <tr>\n",
       "      <th>0</th>\n",
       "      <td>1</td>\n",
       "      <td>7</td>\n",
       "    </tr>\n",
       "    <tr>\n",
       "      <th>1</th>\n",
       "      <td>2</td>\n",
       "      <td>8</td>\n",
       "    </tr>\n",
       "    <tr>\n",
       "      <th>2</th>\n",
       "      <td>3</td>\n",
       "      <td>9</td>\n",
       "    </tr>\n",
       "    <tr>\n",
       "      <th>3</th>\n",
       "      <td>4</td>\n",
       "      <td>10</td>\n",
       "    </tr>\n",
       "  </tbody>\n",
       "</table>\n",
       "</div>"
      ],
      "text/plain": [
       "   num1  num2\n",
       "0     1     7\n",
       "1     2     8\n",
       "2     3     9\n",
       "3     4    10"
      ]
     },
     "execution_count": 14,
     "metadata": {},
     "output_type": "execute_result"
    }
   ],
   "source": [
    "df.compute()"
   ]
  },
  {
   "cell_type": "markdown",
   "id": "b94b64d2",
   "metadata": {},
   "source": [
    "## Basic Operations"
   ]
  },
  {
   "cell_type": "code",
   "execution_count": 17,
   "id": "54d990b8",
   "metadata": {},
   "outputs": [
    {
     "data": {
      "text/plain": [
       "Index(['id', 'name', 'x', 'y'], dtype='object')"
      ]
     },
     "execution_count": 17,
     "metadata": {},
     "output_type": "execute_result"
    }
   ],
   "source": [
    "ddf.columns"
   ]
  },
  {
   "cell_type": "code",
   "execution_count": 18,
   "id": "a91ccbd0",
   "metadata": {},
   "outputs": [
    {
     "data": {
      "text/plain": [
       "id        int64\n",
       "name     object\n",
       "x       float64\n",
       "y       float64\n",
       "dtype: object"
      ]
     },
     "execution_count": 18,
     "metadata": {},
     "output_type": "execute_result"
    }
   ],
   "source": [
    "ddf.dtypes"
   ]
  },
  {
   "cell_type": "code",
   "execution_count": 19,
   "id": "10d50f57",
   "metadata": {},
   "outputs": [
    {
     "data": {
      "text/plain": [
       "3682"
      ]
     },
     "execution_count": 19,
     "metadata": {},
     "output_type": "execute_result"
    }
   ],
   "source": [
    "ddf.npartitions"
   ]
  },
  {
   "cell_type": "code",
   "execution_count": null,
   "id": "53f55fbc",
   "metadata": {},
   "outputs": [],
   "source": []
  },
  {
   "cell_type": "code",
   "execution_count": 16,
   "id": "afee5ef1",
   "metadata": {},
   "outputs": [
    {
     "data": {
      "text/html": [
       "<div>\n",
       "<style scoped>\n",
       "    .dataframe tbody tr th:only-of-type {\n",
       "        vertical-align: middle;\n",
       "    }\n",
       "\n",
       "    .dataframe tbody tr th {\n",
       "        vertical-align: top;\n",
       "    }\n",
       "\n",
       "    .dataframe thead th {\n",
       "        text-align: right;\n",
       "    }\n",
       "</style>\n",
       "<table border=\"1\" class=\"dataframe\">\n",
       "  <thead>\n",
       "    <tr style=\"text-align: right;\">\n",
       "      <th></th>\n",
       "      <th>id</th>\n",
       "      <th>x</th>\n",
       "      <th>y</th>\n",
       "    </tr>\n",
       "  </thead>\n",
       "  <tbody>\n",
       "    <tr>\n",
       "      <th>count</th>\n",
       "      <td>3.181248e+08</td>\n",
       "      <td>3.181248e+08</td>\n",
       "      <td>3.181248e+08</td>\n",
       "    </tr>\n",
       "    <tr>\n",
       "      <th>mean</th>\n",
       "      <td>9.999992e+02</td>\n",
       "      <td>-1.471713e-05</td>\n",
       "      <td>-3.860613e-05</td>\n",
       "    </tr>\n",
       "    <tr>\n",
       "      <th>std</th>\n",
       "      <td>3.162251e+01</td>\n",
       "      <td>5.773323e-01</td>\n",
       "      <td>5.773433e-01</td>\n",
       "    </tr>\n",
       "    <tr>\n",
       "      <th>min</th>\n",
       "      <td>8.270000e+02</td>\n",
       "      <td>-1.000000e+00</td>\n",
       "      <td>-1.000000e+00</td>\n",
       "    </tr>\n",
       "    <tr>\n",
       "      <th>25%</th>\n",
       "      <td>9.790000e+02</td>\n",
       "      <td>-4.903564e-01</td>\n",
       "      <td>-4.910447e-01</td>\n",
       "    </tr>\n",
       "    <tr>\n",
       "      <th>50%</th>\n",
       "      <td>1.000000e+03</td>\n",
       "      <td>1.274976e-02</td>\n",
       "      <td>1.187037e-02</td>\n",
       "    </tr>\n",
       "    <tr>\n",
       "      <th>75%</th>\n",
       "      <td>1.022000e+03</td>\n",
       "      <td>5.118671e-01</td>\n",
       "      <td>5.109812e-01</td>\n",
       "    </tr>\n",
       "    <tr>\n",
       "      <th>max</th>\n",
       "      <td>1.189000e+03</td>\n",
       "      <td>1.000000e+00</td>\n",
       "      <td>1.000000e+00</td>\n",
       "    </tr>\n",
       "  </tbody>\n",
       "</table>\n",
       "</div>"
      ],
      "text/plain": [
       "                 id             x             y\n",
       "count  3.181248e+08  3.181248e+08  3.181248e+08\n",
       "mean   9.999992e+02 -1.471713e-05 -3.860613e-05\n",
       "std    3.162251e+01  5.773323e-01  5.773433e-01\n",
       "min    8.270000e+02 -1.000000e+00 -1.000000e+00\n",
       "25%    9.790000e+02 -4.903564e-01 -4.910447e-01\n",
       "50%    1.000000e+03  1.274976e-02  1.187037e-02\n",
       "75%    1.022000e+03  5.118671e-01  5.109812e-01\n",
       "max    1.189000e+03  1.000000e+00  1.000000e+00"
      ]
     },
     "execution_count": 16,
     "metadata": {},
     "output_type": "execute_result"
    }
   ],
   "source": [
    "ddf.describe().compute()"
   ]
  },
  {
   "cell_type": "code",
   "execution_count": 20,
   "id": "535dc5d1",
   "metadata": {},
   "outputs": [
    {
     "data": {
      "text/html": [
       "<div><strong>Dask DataFrame Structure:</strong></div>\n",
       "<div>\n",
       "<style scoped>\n",
       "    .dataframe tbody tr th:only-of-type {\n",
       "        vertical-align: middle;\n",
       "    }\n",
       "\n",
       "    .dataframe tbody tr th {\n",
       "        vertical-align: top;\n",
       "    }\n",
       "\n",
       "    .dataframe thead th {\n",
       "        text-align: right;\n",
       "    }\n",
       "</style>\n",
       "<table border=\"1\" class=\"dataframe\">\n",
       "  <thead>\n",
       "    <tr style=\"text-align: right;\">\n",
       "      <th></th>\n",
       "      <th>id</th>\n",
       "      <th>name</th>\n",
       "      <th>x</th>\n",
       "      <th>y</th>\n",
       "    </tr>\n",
       "    <tr>\n",
       "      <th>npartitions=1</th>\n",
       "      <th></th>\n",
       "      <th></th>\n",
       "      <th></th>\n",
       "      <th></th>\n",
       "    </tr>\n",
       "  </thead>\n",
       "  <tbody>\n",
       "    <tr>\n",
       "      <th>1990-01-01</th>\n",
       "      <td>int64</td>\n",
       "      <td>object</td>\n",
       "      <td>float64</td>\n",
       "      <td>float64</td>\n",
       "    </tr>\n",
       "    <tr>\n",
       "      <th>1990-01-02</th>\n",
       "      <td>...</td>\n",
       "      <td>...</td>\n",
       "      <td>...</td>\n",
       "      <td>...</td>\n",
       "    </tr>\n",
       "  </tbody>\n",
       "</table>\n",
       "</div>\n",
       "<div>Dask Name: blocks, 3683 tasks</div>"
      ],
      "text/plain": [
       "Dask DataFrame Structure:\n",
       "                  id    name        x        y\n",
       "npartitions=1                                 \n",
       "1990-01-01     int64  object  float64  float64\n",
       "1990-01-02       ...     ...      ...      ...\n",
       "Dask Name: blocks, 3683 tasks"
      ]
     },
     "execution_count": 20,
     "metadata": {},
     "output_type": "execute_result"
    }
   ],
   "source": [
    "ddf.partitions[0]"
   ]
  },
  {
   "cell_type": "code",
   "execution_count": 22,
   "id": "f5bf66cc",
   "metadata": {},
   "outputs": [
    {
     "data": {
      "text/plain": [
       "<AxesSubplot:>"
      ]
     },
     "execution_count": 22,
     "metadata": {},
     "output_type": "execute_result"
    },
    {
     "data": {
      "image/png": "[encoded data removed]",
      "text/plain": [
       "<Figure size 432x288 with 1 Axes>"
      ]
     },
     "metadata": {
      "needs_background": "light"
     },
     "output_type": "display_data"
    }
   ],
   "source": [
    "pdf.plot()"
   ]
  },
  {
   "cell_type": "code",
   "execution_count": 25,
   "id": "adb2d4d6",
   "metadata": {},
   "outputs": [
    {
     "data": {
      "text/html": [
       "<div>\n",
       "<style scoped>\n",
       "    .dataframe tbody tr th:only-of-type {\n",
       "        vertical-align: middle;\n",
       "    }\n",
       "\n",
       "    .dataframe tbody tr th {\n",
       "        vertical-align: top;\n",
       "    }\n",
       "\n",
       "    .dataframe thead th {\n",
       "        text-align: right;\n",
       "    }\n",
       "</style>\n",
       "<table border=\"1\" class=\"dataframe\">\n",
       "  <thead>\n",
       "    <tr style=\"text-align: right;\">\n",
       "      <th></th>\n",
       "      <th>id</th>\n",
       "      <th>name</th>\n",
       "      <th>x</th>\n",
       "      <th>y</th>\n",
       "    </tr>\n",
       "    <tr>\n",
       "      <th>timestamp</th>\n",
       "      <th></th>\n",
       "      <th></th>\n",
       "      <th></th>\n",
       "      <th></th>\n",
       "    </tr>\n",
       "  </thead>\n",
       "  <tbody>\n",
       "    <tr>\n",
       "      <th>1990-01-01 00:00:00</th>\n",
       "      <td>1058</td>\n",
       "      <td>Jerry</td>\n",
       "      <td>-0.872128</td>\n",
       "      <td>0.337763</td>\n",
       "    </tr>\n",
       "    <tr>\n",
       "      <th>1990-01-01 00:00:01</th>\n",
       "      <td>1009</td>\n",
       "      <td>Edith</td>\n",
       "      <td>-0.793868</td>\n",
       "      <td>0.298295</td>\n",
       "    </tr>\n",
       "    <tr>\n",
       "      <th>1990-01-01 00:00:02</th>\n",
       "      <td>986</td>\n",
       "      <td>Zelda</td>\n",
       "      <td>-0.597289</td>\n",
       "      <td>-0.665640</td>\n",
       "    </tr>\n",
       "    <tr>\n",
       "      <th>1990-01-01 00:00:03</th>\n",
       "      <td>997</td>\n",
       "      <td>Yvonne</td>\n",
       "      <td>0.413854</td>\n",
       "      <td>-0.411249</td>\n",
       "    </tr>\n",
       "    <tr>\n",
       "      <th>1990-01-01 00:00:04</th>\n",
       "      <td>998</td>\n",
       "      <td>Zelda</td>\n",
       "      <td>-0.633763</td>\n",
       "      <td>-0.175111</td>\n",
       "    </tr>\n",
       "  </tbody>\n",
       "</table>\n",
       "</div>"
      ],
      "text/plain": [
       "                       id    name         x         y\n",
       "timestamp                                            \n",
       "1990-01-01 00:00:00  1058   Jerry -0.872128  0.337763\n",
       "1990-01-01 00:00:01  1009   Edith -0.793868  0.298295\n",
       "1990-01-01 00:00:02   986   Zelda -0.597289 -0.665640\n",
       "1990-01-01 00:00:03   997  Yvonne  0.413854 -0.411249\n",
       "1990-01-01 00:00:04   998   Zelda -0.633763 -0.175111"
      ]
     },
     "execution_count": 25,
     "metadata": {},
     "output_type": "execute_result"
    }
   ],
   "source": [
    "ddf.head()"
   ]
  },
  {
   "cell_type": "code",
   "execution_count": 27,
   "id": "a706c154",
   "metadata": {},
   "outputs": [
    {
     "data": {
      "text/html": [
       "<div>\n",
       "<style scoped>\n",
       "    .dataframe tbody tr th:only-of-type {\n",
       "        vertical-align: middle;\n",
       "    }\n",
       "\n",
       "    .dataframe tbody tr th {\n",
       "        vertical-align: top;\n",
       "    }\n",
       "\n",
       "    .dataframe thead th {\n",
       "        text-align: right;\n",
       "    }\n",
       "</style>\n",
       "<table border=\"1\" class=\"dataframe\">\n",
       "  <thead>\n",
       "    <tr style=\"text-align: right;\">\n",
       "      <th></th>\n",
       "      <th>id</th>\n",
       "      <th>name</th>\n",
       "      <th>x</th>\n",
       "      <th>y</th>\n",
       "    </tr>\n",
       "    <tr>\n",
       "      <th>timestamp</th>\n",
       "      <th></th>\n",
       "      <th></th>\n",
       "      <th></th>\n",
       "      <th></th>\n",
       "    </tr>\n",
       "  </thead>\n",
       "  <tbody>\n",
       "    <tr>\n",
       "      <th>1990-01-01 00:00:00</th>\n",
       "      <td>1058</td>\n",
       "      <td>Jerry</td>\n",
       "      <td>-0.872128</td>\n",
       "      <td>0.337763</td>\n",
       "    </tr>\n",
       "    <tr>\n",
       "      <th>1990-01-01 00:00:01</th>\n",
       "      <td>1009</td>\n",
       "      <td>Edith</td>\n",
       "      <td>-0.793868</td>\n",
       "      <td>0.298295</td>\n",
       "    </tr>\n",
       "    <tr>\n",
       "      <th>1990-01-01 00:00:02</th>\n",
       "      <td>986</td>\n",
       "      <td>Zelda</td>\n",
       "      <td>-0.597289</td>\n",
       "      <td>-0.665640</td>\n",
       "    </tr>\n",
       "    <tr>\n",
       "      <th>1990-01-01 00:00:03</th>\n",
       "      <td>997</td>\n",
       "      <td>Yvonne</td>\n",
       "      <td>0.413854</td>\n",
       "      <td>-0.411249</td>\n",
       "    </tr>\n",
       "    <tr>\n",
       "      <th>1990-01-01 00:00:04</th>\n",
       "      <td>998</td>\n",
       "      <td>Zelda</td>\n",
       "      <td>-0.633763</td>\n",
       "      <td>-0.175111</td>\n",
       "    </tr>\n",
       "    <tr>\n",
       "      <th>...</th>\n",
       "      <td>...</td>\n",
       "      <td>...</td>\n",
       "      <td>...</td>\n",
       "      <td>...</td>\n",
       "    </tr>\n",
       "    <tr>\n",
       "      <th>1990-01-01 23:59:55</th>\n",
       "      <td>994</td>\n",
       "      <td>Dan</td>\n",
       "      <td>0.757516</td>\n",
       "      <td>0.250908</td>\n",
       "    </tr>\n",
       "    <tr>\n",
       "      <th>1990-01-01 23:59:56</th>\n",
       "      <td>1042</td>\n",
       "      <td>Ray</td>\n",
       "      <td>-0.550882</td>\n",
       "      <td>-0.194467</td>\n",
       "    </tr>\n",
       "    <tr>\n",
       "      <th>1990-01-01 23:59:57</th>\n",
       "      <td>946</td>\n",
       "      <td>Hannah</td>\n",
       "      <td>0.647164</td>\n",
       "      <td>-0.779678</td>\n",
       "    </tr>\n",
       "    <tr>\n",
       "      <th>1990-01-01 23:59:58</th>\n",
       "      <td>974</td>\n",
       "      <td>Wendy</td>\n",
       "      <td>-0.027847</td>\n",
       "      <td>-0.541835</td>\n",
       "    </tr>\n",
       "    <tr>\n",
       "      <th>1990-01-01 23:59:59</th>\n",
       "      <td>1016</td>\n",
       "      <td>Hannah</td>\n",
       "      <td>0.038925</td>\n",
       "      <td>-0.391401</td>\n",
       "    </tr>\n",
       "  </tbody>\n",
       "</table>\n",
       "<p>86400 rows × 4 columns</p>\n",
       "</div>"
      ],
      "text/plain": [
       "                       id    name         x         y\n",
       "timestamp                                            \n",
       "1990-01-01 00:00:00  1058   Jerry -0.872128  0.337763\n",
       "1990-01-01 00:00:01  1009   Edith -0.793868  0.298295\n",
       "1990-01-01 00:00:02   986   Zelda -0.597289 -0.665640\n",
       "1990-01-01 00:00:03   997  Yvonne  0.413854 -0.411249\n",
       "1990-01-01 00:00:04   998   Zelda -0.633763 -0.175111\n",
       "...                   ...     ...       ...       ...\n",
       "1990-01-01 23:59:55   994     Dan  0.757516  0.250908\n",
       "1990-01-01 23:59:56  1042     Ray -0.550882 -0.194467\n",
       "1990-01-01 23:59:57   946  Hannah  0.647164 -0.779678\n",
       "1990-01-01 23:59:58   974   Wendy -0.027847 -0.541835\n",
       "1990-01-01 23:59:59  1016  Hannah  0.038925 -0.391401\n",
       "\n",
       "[86400 rows x 4 columns]"
      ]
     },
     "execution_count": 27,
     "metadata": {},
     "output_type": "execute_result"
    }
   ],
   "source": [
    "ddf.loc[\"1990-01-01\"].compute()"
   ]
  },
  {
   "cell_type": "code",
   "execution_count": 31,
   "id": "6f7bb7a1",
   "metadata": {},
   "outputs": [
    {
     "data": {
      "text/plain": [
       "timestamp\n",
       "1990-01-01 00:00:00     Jerry\n",
       "1990-01-01 00:00:01     Edith\n",
       "1990-01-01 00:00:02     Zelda\n",
       "1990-01-01 00:00:03    Yvonne\n",
       "1990-01-01 00:00:04     Zelda\n",
       "Freq: S, Name: name, dtype: object"
      ]
     },
     "execution_count": 31,
     "metadata": {},
     "output_type": "execute_result"
    }
   ],
   "source": [
    "ddf.iloc[:, 1].head()"
   ]
  },
  {
   "cell_type": "code",
   "execution_count": 36,
   "id": "a3b84545",
   "metadata": {},
   "outputs": [
    {
     "data": {
      "text/plain": [
       "name\n",
       "Alice       5.552947e-06\n",
       "Bob        -6.741587e-05\n",
       "Charlie    -1.419766e-04\n",
       "Dan        -2.422360e-05\n",
       "Edith       9.368941e-05\n",
       "Frank       2.356334e-04\n",
       "George     -1.699949e-04\n",
       "Hannah      1.787516e-04\n",
       "Ingrid     -6.196565e-05\n",
       "Jerry      -1.317566e-04\n",
       "Kevin       1.525985e-04\n",
       "Laura      -1.015165e-04\n",
       "Michael     2.522278e-04\n",
       "Norbert     8.567085e-05\n",
       "Oliver      3.262805e-07\n",
       "Patricia   -1.498108e-04\n",
       "Quinn       3.451415e-05\n",
       "Ray        -9.936520e-05\n",
       "Sarah       1.753102e-07\n",
       "Tim         7.826044e-05\n",
       "Ursula     -8.692884e-05\n",
       "Victor     -1.001067e-04\n",
       "Wendy      -2.060796e-04\n",
       "Xavier     -2.162018e-04\n",
       "Yvonne     -1.463105e-04\n",
       "Zelda       2.038136e-04\n",
       "Name: x, dtype: float64"
      ]
     },
     "execution_count": 36,
     "metadata": {},
     "output_type": "execute_result"
    }
   ],
   "source": [
    "ddf.groupby(\"name\").x.mean().compute()"
   ]
  },
  {
   "cell_type": "code",
   "execution_count": null,
   "id": "17ecdcc9",
   "metadata": {},
   "outputs": [],
   "source": []
  }
 ],
 "metadata": {
  "kernelspec": {
   "display_name": "coiled-base",
   "language": "python",
   "name": "coiled-base"
  },
  "language_info": {
   "codemirror_mode": {
    "name": "ipython",
    "version": 3
   },
   "file_extension": ".py",
   "mimetype": "text/x-python",
   "name": "python",
   "nbconvert_exporter": "python",
   "pygments_lexer": "ipython3",
   "version": "3.9.7"
  }
 },
 "nbformat": 4,
 "nbformat_minor": 5
}
