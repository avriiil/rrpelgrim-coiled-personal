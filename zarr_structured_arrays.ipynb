{
 "cells": [
  {
   "cell_type": "markdown",
   "id": "73315457-f966-4856-a4bf-4db649e0821c",
   "metadata": {},
   "source": [
    "In the L5Kit codebase, we make use of a data format that consists of a set of numpy structured arrays. Conceptually, it is similar to a set of CSV files with records and different columns, only that they are stored as binary files instead of text. Structured arrays can be directly memory mapped from disk.\n",
    "\n",
    "Structured arrays are stored in memory in an interleaved format, this means that one “row” or “sample” is grouped together in memory. For example, if we are storing colors and whether we like them (as a boolean l), it would be [r,g,b,l,r,g,b,l,r,g,b,l] and not [r,r,r,g,g,g,b,b,b,l,l,l]). Most ML applications require row-based access - column-based operations are much less common - making this a good fit."
   ]
  },
  {
   "cell_type": "code",
   "execution_count": 2,
   "id": "30cab9de-67d0-447b-86b7-19075a87df60",
   "metadata": {},
   "outputs": [],
   "source": [
    "import numpy as np"
   ]
  },
  {
   "cell_type": "code",
   "execution_count": 5,
   "id": "efb95360-5a9c-48e9-a861-36cd2c7a8670",
   "metadata": {},
   "outputs": [],
   "source": [
    "my_arr = np.zeros(3, dtype=[(\"color\", (np.uint8,3)), (\"label\", bool)])"
   ]
  },
  {
   "cell_type": "code",
   "execution_count": 6,
   "id": "9f647688-916e-4744-b9be-e1c4f410f0f2",
   "metadata": {},
   "outputs": [
    {
     "name": "stdout",
     "output_type": "stream",
     "text": [
      "[([0, 0, 0], False) ([0, 0, 0], False) ([0, 0, 0], False)]\n"
     ]
    }
   ],
   "source": [
    "print(my_arr)"
   ]
  },
  {
   "cell_type": "code",
   "execution_count": 10,
   "id": "a4f678e1-c2bb-4d5d-ab54-0480b6119599",
   "metadata": {},
   "outputs": [],
   "source": [
    "my_arr[0][\"color\"] = [0,218,130]\n",
    "my_arr[0][\"label\"] = True\n",
    "my_arr[1][\"color\"] = [245, 62, 255]\n",
    "my_arr[1][\"label\"] = True"
   ]
  },
  {
   "cell_type": "code",
   "execution_count": 11,
   "id": "4e7798b3-6536-471e-8b5e-c20b51cf2f42",
   "metadata": {},
   "outputs": [
    {
     "data": {
      "text/plain": [
       "array([([  0, 218, 130],  True), ([245,  62, 255],  True),\n",
       "       ([  0,   0,   0], False)],\n",
       "      dtype=[('color', 'u1', (3,)), ('label', '?')])"
      ]
     },
     "execution_count": 11,
     "metadata": {},
     "output_type": "execute_result"
    }
   ],
   "source": [
    "my_arr"
   ]
  },
  {
   "cell_type": "code",
   "execution_count": 12,
   "id": "b17047e0-b1cf-4fd6-8e72-963df05ce19a",
   "metadata": {},
   "outputs": [
    {
     "name": "stdout",
     "output_type": "stream",
     "text": [
      "b'\\x00\\xda\\x82\\x01\\xf5>\\xff\\x01\\x00\\x00\\x00\\x00'\n"
     ]
    }
   ],
   "source": [
    "print(my_arr.tobytes())"
   ]
  },
  {
   "cell_type": "code",
   "execution_count": 13,
   "id": "304b5761-ea8f-4391-b89a-51f984859db3",
   "metadata": {},
   "outputs": [],
   "source": [
    "import zarr"
   ]
  },
  {
   "cell_type": "code",
   "execution_count": 14,
   "id": "ef94375d-74a1-497c-b71c-cd7511301a57",
   "metadata": {},
   "outputs": [],
   "source": [
    "# open the zarr store\n",
    "z = zarr.open(\"dataset.zarr\", mode=\"w\", shape=(500,), dtype=np.float32, chunks=(100,))"
   ]
  },
  {
   "cell_type": "code",
   "execution_count": 15,
   "id": "02e78067-094a-4e53-aa6a-c83ab5ab2beb",
   "metadata": {},
   "outputs": [],
   "source": [
    "# We can write to it by assigning to it. This gets persisted on disk.\n",
    "z[0:150] = np.arange(150)"
   ]
  },
  {
   "cell_type": "code",
   "execution_count": 16,
   "id": "2ab76f1a-a396-47ed-860d-9d14ccbcca32",
   "metadata": {},
   "outputs": [
    {
     "name": "stdout",
     "output_type": "stream",
     "text": [
      "Type               : zarr.core.Array\n",
      "Data type          : float32\n",
      "Shape              : (500,)\n",
      "Chunk shape        : (100,)\n",
      "Order              : C\n",
      "Read-only          : False\n",
      "Compressor         : Blosc(cname='lz4', clevel=5, shuffle=SHUFFLE, blocksize=0)\n",
      "Store type         : zarr.storage.DirectoryStore\n",
      "No. bytes          : 2000 (2.0K)\n",
      "No. bytes stored   : 577\n",
      "Storage ratio      : 3.5\n",
      "Chunks initialized : 2/5\n",
      "\n"
     ]
    }
   ],
   "source": [
    "print(z.info)"
   ]
  },
  {
   "cell_type": "markdown",
   "id": "d5cf86b7-34f6-4c8a-8145-a1ba5bb466ef",
   "metadata": {},
   "source": [
    "Automatically compressed on disk, almost 75%!\n",
    "\n",
    "Reading from a zarr array is as easy as slicing from it like you would any numpy array. The return value is an ordinary numpy array. Zarr takes care of determining which chunks to read from:"
   ]
  },
  {
   "cell_type": "code",
   "execution_count": 17,
   "id": "978a8492-7fa3-480a-9524-361c4731883b",
   "metadata": {},
   "outputs": [
    {
     "name": "stdout",
     "output_type": "stream",
     "text": [
      "[0. 1. 2. 3. 4. 5. 6. 7. 8. 9.]\n"
     ]
    }
   ],
   "source": [
    "print(z[:10])"
   ]
  },
  {
   "cell_type": "code",
   "execution_count": 18,
   "id": "de1225a9-bbfb-44ab-a38e-1dda82370c80",
   "metadata": {},
   "outputs": [
    {
     "name": "stdout",
     "output_type": "stream",
     "text": [
      "[  0.  20.  40.  60.  80. 100. 120. 140.   0.   0.   0.   0.   0.   0.\n",
      "   0.   0.   0.   0.   0.   0.   0.   0.   0.   0.   0.]\n"
     ]
    }
   ],
   "source": [
    "print(z[::20])"
   ]
  },
  {
   "cell_type": "code",
   "execution_count": null,
   "id": "07068cdc-c2f2-4e42-9a22-eb8610afa2ff",
   "metadata": {},
   "outputs": [],
   "source": []
  },
  {
   "cell_type": "code",
   "execution_count": null,
   "id": "9562697f-4e65-4697-bb18-44234bd55c96",
   "metadata": {},
   "outputs": [],
   "source": []
  },
  {
   "cell_type": "markdown",
   "id": "d7960e7a-24fc-429d-bbe8-dedb53069fbb",
   "metadata": {},
   "source": [
    "## Zarr - Dask Docs\n",
    "\n",
    "https://docs.dask.org/en/stable/array-creation.html#zarr"
   ]
  },
  {
   "cell_type": "code",
   "execution_count": 22,
   "id": "de183b7d-f066-425c-be6e-a17ea9bceac7",
   "metadata": {},
   "outputs": [],
   "source": [
    "import dask.array as da"
   ]
  },
  {
   "cell_type": "code",
   "execution_count": 39,
   "id": "627c5332-14e4-43da-b956-921f44cc94e2",
   "metadata": {},
   "outputs": [],
   "source": [
    "my_arr = da.arange(0,50,chunks=5)"
   ]
  },
  {
   "cell_type": "code",
   "execution_count": 30,
   "id": "50003c49-748b-4777-a3b2-928b2e06ba93",
   "metadata": {},
   "outputs": [
    {
     "data": {
      "text/html": [
       "<table>\n",
       "    <tr>\n",
       "        <td>\n",
       "            <table>\n",
       "                <thead>\n",
       "                    <tr>\n",
       "                        <td> </td>\n",
       "                        <th> Array </th>\n",
       "                        <th> Chunk </th>\n",
       "                    </tr>\n",
       "                </thead>\n",
       "                <tbody>\n",
       "                    \n",
       "                    <tr>\n",
       "                        <th> Bytes </th>\n",
       "                        <td> 240 B </td>\n",
       "                        <td> 40 B </td>\n",
       "                    </tr>\n",
       "                    \n",
       "                    <tr>\n",
       "                        <th> Shape </th>\n",
       "                        <td> (30,) </td>\n",
       "                        <td> (5,) </td>\n",
       "                    </tr>\n",
       "                    <tr>\n",
       "                        <th> Count </th>\n",
       "                        <td> 6 Tasks </td>\n",
       "                        <td> 6 Chunks </td>\n",
       "                    </tr>\n",
       "                    <tr>\n",
       "                    <th> Type </th>\n",
       "                    <td> int64 </td>\n",
       "                    <td> numpy.ndarray </td>\n",
       "                    </tr>\n",
       "                </tbody>\n",
       "            </table>\n",
       "        </td>\n",
       "        <td>\n",
       "        <svg width=\"170\" height=\"82\" style=\"stroke:rgb(0,0,0);stroke-width:1\" >\n",
       "\n",
       "  <!-- Horizontal lines -->\n",
       "  <line x1=\"0\" y1=\"0\" x2=\"120\" y2=\"0\" style=\"stroke-width:2\" />\n",
       "  <line x1=\"0\" y1=\"32\" x2=\"120\" y2=\"32\" style=\"stroke-width:2\" />\n",
       "\n",
       "  <!-- Vertical lines -->\n",
       "  <line x1=\"0\" y1=\"0\" x2=\"0\" y2=\"32\" style=\"stroke-width:2\" />\n",
       "  <line x1=\"20\" y1=\"0\" x2=\"20\" y2=\"32\" />\n",
       "  <line x1=\"40\" y1=\"0\" x2=\"40\" y2=\"32\" />\n",
       "  <line x1=\"60\" y1=\"0\" x2=\"60\" y2=\"32\" />\n",
       "  <line x1=\"80\" y1=\"0\" x2=\"80\" y2=\"32\" />\n",
       "  <line x1=\"100\" y1=\"0\" x2=\"100\" y2=\"32\" />\n",
       "  <line x1=\"120\" y1=\"0\" x2=\"120\" y2=\"32\" style=\"stroke-width:2\" />\n",
       "\n",
       "  <!-- Colored Rectangle -->\n",
       "  <polygon points=\"0.0,0.0 120.0,0.0 120.0,32.02435249410096 0.0,32.02435249410096\" style=\"fill:#ECB172A0;stroke-width:0\"/>\n",
       "\n",
       "  <!-- Text -->\n",
       "  <text x=\"60.000000\" y=\"52.024352\" font-size=\"1.0rem\" font-weight=\"100\" text-anchor=\"middle\" >30</text>\n",
       "  <text x=\"140.000000\" y=\"16.012176\" font-size=\"1.0rem\" font-weight=\"100\" text-anchor=\"middle\" transform=\"rotate(0,140.000000,16.012176)\">1</text>\n",
       "</svg>\n",
       "        </td>\n",
       "    </tr>\n",
       "</table>"
      ],
      "text/plain": [
       "dask.array<arange, shape=(30,), dtype=int64, chunksize=(5,), chunktype=numpy.ndarray>"
      ]
     },
     "execution_count": 30,
     "metadata": {},
     "output_type": "execute_result"
    }
   ],
   "source": [
    "my_arr"
   ]
  },
  {
   "cell_type": "code",
   "execution_count": 34,
   "id": "30e36c8f-4593-4016-803e-0dba276b19fc",
   "metadata": {},
   "outputs": [],
   "source": [
    "my_arr.to_zarr('test.zarr')"
   ]
  },
  {
   "cell_type": "code",
   "execution_count": null,
   "id": "0e2c5f87-847c-40a3-98f7-6698ba6e02e9",
   "metadata": {},
   "outputs": [],
   "source": [
    "z = zarr.open(\"dataset.zarr\", mode=\"w\", shape=(500,), dtype=np.float32, chunks=(100,))"
   ]
  },
  {
   "cell_type": "code",
   "execution_count": null,
   "id": "d991c7f6-4bd9-4829-9fd9-1be464caa3af",
   "metadata": {},
   "outputs": [],
   "source": [
    "zarr.create()"
   ]
  },
  {
   "cell_type": "code",
   "execution_count": 40,
   "id": "b56b22ed-8946-4790-8559-6043c49ee765",
   "metadata": {},
   "outputs": [
    {
     "data": {
      "text/plain": [
       "(50,)"
      ]
     },
     "execution_count": 40,
     "metadata": {},
     "output_type": "execute_result"
    }
   ],
   "source": [
    "my_arr.shape"
   ]
  },
  {
   "cell_type": "code",
   "execution_count": 41,
   "id": "5e65973d-304f-4f87-8f3c-ff27ebf53bfb",
   "metadata": {},
   "outputs": [
    {
     "data": {
      "text/plain": [
       "(5,)"
      ]
     },
     "execution_count": 41,
     "metadata": {},
     "output_type": "execute_result"
    }
   ],
   "source": [
    "my_arr.chunksize"
   ]
  },
  {
   "cell_type": "code",
   "execution_count": 50,
   "id": "4c1fd02d-6c50-470a-9120-17f69cd07647",
   "metadata": {},
   "outputs": [],
   "source": [
    "# create zipped zarr store\n",
    "z = zarr.create(shape=my_arr.shape, chunks=my_arr.chunksize, dtype=float, store=zarr.ZipStore(\"zipped.zarr\"))"
   ]
  },
  {
   "cell_type": "code",
   "execution_count": 51,
   "id": "171206e1-dd0d-4bd4-86d6-19f2f0eb56ea",
   "metadata": {},
   "outputs": [],
   "source": [
    "my_arr.to_zarr(z)"
   ]
  },
  {
   "cell_type": "code",
   "execution_count": 52,
   "id": "19a9f951-4318-43d7-8657-4722e1a1710e",
   "metadata": {},
   "outputs": [],
   "source": [
    "# store unzipped\n",
    "my_arr.to_zarr('unzipped.zarr')"
   ]
  },
  {
   "cell_type": "code",
   "execution_count": null,
   "id": "47a28ec0-7fb7-4fcc-b08e-6621683bab74",
   "metadata": {},
   "outputs": [],
   "source": []
  }
 ],
 "metadata": {
  "kernelspec": {
   "display_name": "coiled-base",
   "language": "python",
   "name": "coiled-base"
  },
  "language_info": {
   "codemirror_mode": {
    "name": "ipython",
    "version": 3
   },
   "file_extension": ".py",
   "mimetype": "text/x-python",
   "name": "python",
   "nbconvert_exporter": "python",
   "pygments_lexer": "ipython3",
   "version": "3.8.12"
  }
 },
 "nbformat": 4,
 "nbformat_minor": 5
}
