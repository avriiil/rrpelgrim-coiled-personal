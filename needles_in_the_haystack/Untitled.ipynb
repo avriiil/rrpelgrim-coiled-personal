{
 "cells": [
  {
   "cell_type": "code",
   "execution_count": 1,
   "id": "a35b50a3",
   "metadata": {},
   "outputs": [],
   "source": [
    "import numpy as np\n",
    "import pandas as pd\n",
    "from holoviews.util.transform import lon_lat_to_easting_northing\n",
    "\n",
    "usecols = ['location-long', 'location-lat', 'external-temperature', 'heading', 'height-above-msl']\n",
    "df = pd.read_csv('/Users/rpelgrim/Desktop/data/gulls-2018/HG_OOSTENDE-gps-2018.csv', usecols=usecols)\n",
    "df.columns = ['longitude', 'latitude', 'temperature', 'heading', 'height-above-msl']\n",
    "\n",
    "\n",
    "sliced = df[(df['longitude'] > 0) & (df['longitude'] < 4) & (df['latitude'] > 49) & (df['latitude'] < 51.5)]\n",
    "\n",
    "\n",
    "x,y = lon_lat_to_easting_northing(sliced.longitude, sliced.latitude)\n",
    "projected = sliced.join([pd.DataFrame({'easting': x}), pd.DataFrame({'northing': y})])\n",
    "projected.to_parquet('/Users/rpelgrim/Desktop/data/gulls-2018/gulls.parq', 'fastparquet', compression='gzip',\n",
    "file_scheme='simple')"
   ]
  },
  {
   "cell_type": "code",
   "execution_count": null,
   "id": "9bb57f14",
   "metadata": {},
   "outputs": [],
   "source": []
  }
 ],
 "metadata": {
  "kernelspec": {
   "display_name": "needles",
   "language": "python",
   "name": "needles"
  },
  "language_info": {
   "codemirror_mode": {
    "name": "ipython",
    "version": 3
   },
   "file_extension": ".py",
   "mimetype": "text/x-python",
   "name": "python",
   "nbconvert_exporter": "python",
   "pygments_lexer": "ipython3",
   "version": "3.8.13"
  }
 },
 "nbformat": 4,
 "nbformat_minor": 5
}
