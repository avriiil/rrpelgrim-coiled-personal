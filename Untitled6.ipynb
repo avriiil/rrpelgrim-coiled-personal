{
 "cells": [
  {
   "cell_type": "code",
   "execution_count": 2,
   "id": "0eda2561-2cb1-495c-a9eb-e4c5bcfbf3cf",
   "metadata": {},
   "outputs": [
    {
     "name": "stderr",
     "output_type": "stream",
     "text": [
      "/Users/rpelgrim/mambaforge/envs/coiled-base/lib/python3.9/site-packages/distributed/node.py:160: UserWarning: Port 8787 is already in use.\n",
      "Perhaps you already have a cluster running?\n",
      "Hosting the HTTP server on port 61192 instead\n",
      "  warnings.warn(\n"
     ]
    },
    {
     "data": {
      "text/plain": [
       "'http://127.0.0.1:61192/status'"
      ]
     },
     "execution_count": 2,
     "metadata": {},
     "output_type": "execute_result"
    }
   ],
   "source": [
    "# A script that gives a local Dask cluster something to do without stressing hardware.\n",
    "# Useful for testing the dashboard.\n",
    "\n",
    "import time\n",
    "\n",
    "from dask.distributed import Client, wait\n",
    "from dask import delayed\n",
    "\n",
    "client = Client()\n",
    "client.dashboard_link"
   ]
  },
  {
   "cell_type": "code",
   "execution_count": null,
   "id": "6de23668-ae20-4943-b8e3-41cd818b5293",
   "metadata": {},
   "outputs": [],
   "source": []
  }
 ],
 "metadata": {
  "kernelspec": {
   "display_name": "coiled-base",
   "language": "python",
   "name": "coiled-base"
  },
  "language_info": {
   "codemirror_mode": {
    "name": "ipython",
    "version": 3
   },
   "file_extension": ".py",
   "mimetype": "text/x-python",
   "name": "python",
   "nbconvert_exporter": "python",
   "pygments_lexer": "ipython3",
   "version": "3.9.7"
  }
 },
 "nbformat": 4,
 "nbformat_minor": 5
}
